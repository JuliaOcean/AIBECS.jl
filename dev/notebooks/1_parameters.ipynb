{
 "cells": [
  {
   "cell_type": "markdown",
   "source": [
    "# Parameters guide"
   ],
   "metadata": {}
  },
  {
   "cell_type": "markdown",
   "source": [
    "Here we will describe the AIBECS interface.\n",
    "This guide will take you through some examples of setting up model parameters."
   ],
   "metadata": {}
  },
  {
   "cell_type": "markdown",
   "source": [
    "> **Note:**\n",
    "> The parameters features in AIBECS essentially come from other packages.\n",
    "> These include [Parameters.jl](https://github.com/mauro3/Parameters.jl), [FieldMetadata.jl](https://github.com/rafaqz/FieldMetadata.jl), [Flatten.jl](https://github.com/rafaqz/Flatten.jl), [Unitful.jl](https://github.com/PainterQubits/Unitful.jl)."
   ],
   "metadata": {}
  },
  {
   "cell_type": "markdown",
   "source": [
    "As usual, make sure you are using AIBECS"
   ],
   "metadata": {}
  },
  {
   "outputs": [],
   "cell_type": "code",
   "source": [
    "using AIBECS"
   ],
   "metadata": {},
   "execution_count": 1
  },
  {
   "cell_type": "markdown",
   "source": [
    "## Abstract parameters type"
   ],
   "metadata": {}
  },
  {
   "cell_type": "markdown",
   "source": [
    "The AIBECS provides a set of features to create and use parameters.\n",
    "This features are implemented as functions that must be provided with a parameters type.\n",
    "But each set of parameters is different, and AIBECS cannot know beforehand what parameters you want to use.\n",
    "The AIBECS thus provides an abstract parameters type, called `AbstractParameters`, upon which all the AIBECS functionality is built.\n",
    "This is why when you create a set of parameters in AIBECS, you must declare it as a subtype of `AbstractParameters`.\n",
    "Here is an example."
   ],
   "metadata": {}
  },
  {
   "outputs": [],
   "cell_type": "code",
   "source": [
    "struct SimpleParams{T} <: AbstractParameters{T}\n",
    "    α::T\n",
    "    β::T\n",
    "end"
   ],
   "metadata": {},
   "execution_count": 2
  },
  {
   "cell_type": "markdown",
   "source": [
    "Once the type, which here simply defines the symbols (`α` and `β`), is constructed, we can *instantiate* a parameter variable."
   ],
   "metadata": {}
  },
  {
   "outputs": [
    {
     "output_type": "execute_result",
     "data": {
      "text/plain": "\n│ Row │ Symbol │ Value   │\n│     │ \u001b[90mSymbol\u001b[39m │ \u001b[90mFloat64\u001b[39m │\n├─────┼────────┼─────────┤\n│ 1   │ α      │ 1.0     │\n│ 2   │ β      │ 2.0     │"
     },
     "metadata": {},
     "execution_count": 3
    }
   ],
   "cell_type": "code",
   "source": [
    "p = SimpleParams(1.0, 2.0)"
   ],
   "metadata": {},
   "execution_count": 3
  },
  {
   "cell_type": "markdown",
   "source": [
    "As you can see, the AIBECS will display `p` as a table.\n",
    "This is because the `show` method converts `p` to a table (a `DataFrame` to be specific) under the hood:"
   ],
   "metadata": {}
  },
  {
   "outputs": [
    {
     "output_type": "execute_result",
     "data": {
      "text/plain": "2×2 DataFrames.DataFrame\n│ Row │ Symbol │ Value   │\n│     │ \u001b[90mSymbol\u001b[39m │ \u001b[90mFloat64\u001b[39m │\n├─────┼────────┼─────────┤\n│ 1   │ α      │ 1.0     │\n│ 2   │ β      │ 2.0     │",
      "text/html": [
       "<table class=\"data-frame\"><thead><tr><th></th><th>Symbol</th><th>Value</th></tr><tr><th></th><th>Symbol</th><th>Float64</th></tr></thead><tbody><p>2 rows × 2 columns</p><tr><th>1</th><td>α</td><td>1.0</td></tr><tr><th>2</th><td>β</td><td>2.0</td></tr></tbody></table>"
      ]
     },
     "metadata": {},
     "execution_count": 4
    }
   ],
   "cell_type": "code",
   "source": [
    "AIBECS.table(p)"
   ],
   "metadata": {},
   "execution_count": 4
  },
  {
   "cell_type": "markdown",
   "source": [
    "If you do not remember the order in which you created the parameters (`α` is first, `β` is second), AIBECS has got your back: keyword arguments are supported."
   ],
   "metadata": {}
  },
  {
   "outputs": [
    {
     "output_type": "execute_result",
     "data": {
      "text/plain": "\n│ Row │ Symbol │ Value   │\n│     │ \u001b[90mSymbol\u001b[39m │ \u001b[90mFloat64\u001b[39m │\n├─────┼────────┼─────────┤\n│ 1   │ α      │ 1.0     │\n│ 2   │ β      │ 2.0     │"
     },
     "metadata": {},
     "execution_count": 5
    }
   ],
   "cell_type": "code",
   "source": [
    "p = SimpleParams(β = 2.0, α = 1.0)"
   ],
   "metadata": {},
   "execution_count": 5
  },
  {
   "cell_type": "markdown",
   "source": [
    "## Unpacking"
   ],
   "metadata": {}
  },
  {
   "cell_type": "markdown",
   "source": [
    "Probably the most useful feature in AIBECS is the ability to elegantly unpack parameters, thanks to [Parameters.jl](https://github.com/mauro3/Parameters.jl)."
   ],
   "metadata": {}
  },
  {
   "outputs": [
    {
     "output_type": "execute_result",
     "data": {
      "text/plain": "(1.0, 2.0)"
     },
     "metadata": {},
     "execution_count": 6
    }
   ],
   "cell_type": "code",
   "source": [
    "@unpack α, β = p\n",
    "α, β"
   ],
   "metadata": {},
   "execution_count": 6
  },
  {
   "cell_type": "markdown",
   "source": [
    "unpacks the parameters on the left (`α` and `β`) from the parameter type `p`."
   ],
   "metadata": {}
  },
  {
   "cell_type": "markdown",
   "source": [
    "## Units"
   ],
   "metadata": {}
  },
  {
   "cell_type": "markdown",
   "source": [
    "One of the main features of parameters in AIBECS is that you can use units and let AIBECS do the conversions for you.\n",
    "Before you use units, though, you **must** import the `@units` and `units` functions from AIBECS.\n",
    "Here is an example."
   ],
   "metadata": {}
  },
  {
   "outputs": [
    {
     "output_type": "execute_result",
     "data": {
      "text/plain": "units (generic function with 11 methods)"
     },
     "metadata": {},
     "execution_count": 7
    }
   ],
   "cell_type": "code",
   "source": [
    "import AIBECS: @units, units\n",
    "@units struct UnitfulParams{T} <: AbstractParameters{T}\n",
    "    α::T | u\"m/s\"\n",
    "    β::T | u\"d\"\n",
    "end"
   ],
   "metadata": {},
   "execution_count": 7
  },
  {
   "cell_type": "markdown",
   "source": [
    "Cretaing an instance is just as easy"
   ],
   "metadata": {}
  },
  {
   "outputs": [
    {
     "output_type": "execute_result",
     "data": {
      "text/plain": "\n│ Row │ Symbol │ Value   │ Unit     │\n│     │ \u001b[90mSymbol\u001b[39m │ \u001b[90mFloat64\u001b[39m │ \u001b[90mUnitful…\u001b[39m │\n├─────┼────────┼─────────┼──────────┤\n│ 1   │ α      │ 1.0     │ m s⁻¹    │\n│ 2   │ β      │ 2.0     │ d        │"
     },
     "metadata": {},
     "execution_count": 8
    }
   ],
   "cell_type": "code",
   "source": [
    "p = UnitfulParams(1.0, 2.0)"
   ],
   "metadata": {},
   "execution_count": 8
  },
  {
   "cell_type": "markdown",
   "source": [
    "And in this case the parameters are shown with units.\n",
    "You can rely on AIBECS to convert units on the fly."
   ],
   "metadata": {}
  },
  {
   "outputs": [
    {
     "output_type": "execute_result",
     "data": {
      "text/plain": "\n│ Row │ Symbol │ Value    │ Unit     │\n│     │ \u001b[90mSymbol\u001b[39m │ \u001b[90mFloat64\u001b[39m  │ \u001b[90mUnitful…\u001b[39m │\n├─────┼────────┼──────────┼──────────┤\n│ 1   │ α      │ 0.833333 │ m s⁻¹    │\n│ 2   │ β      │ 1.0      │ d        │"
     },
     "metadata": {},
     "execution_count": 9
    }
   ],
   "cell_type": "code",
   "source": [
    "p = UnitfulParams(3.0u\"km/hr\", 24.0u\"hr\")"
   ],
   "metadata": {},
   "execution_count": 9
  },
  {
   "cell_type": "markdown",
   "source": [
    "And use keyword arguments"
   ],
   "metadata": {}
  },
  {
   "outputs": [
    {
     "output_type": "execute_result",
     "data": {
      "text/plain": "\n│ Row │ Symbol │ Value    │ Unit     │\n│     │ \u001b[90mSymbol\u001b[39m │ \u001b[90mFloat64\u001b[39m  │ \u001b[90mUnitful…\u001b[39m │\n├─────┼────────┼──────────┼──────────┤\n│ 1   │ α      │ 0.833333 │ m s⁻¹    │\n│ 2   │ β      │ 1.0      │ d        │"
     },
     "metadata": {},
     "execution_count": 10
    }
   ],
   "cell_type": "code",
   "source": [
    "p = UnitfulParams(β = 24.0u\"hr\", α = 3.0u\"km/hr\")"
   ],
   "metadata": {},
   "execution_count": 10
  },
  {
   "cell_type": "markdown",
   "source": [
    "Unpacking parameters that have units first converts them to SI units."
   ],
   "metadata": {}
  },
  {
   "outputs": [
    {
     "output_type": "execute_result",
     "data": {
      "text/plain": "86400.0"
     },
     "metadata": {},
     "execution_count": 11
    }
   ],
   "cell_type": "code",
   "source": [
    "@unpack β = p\n",
    "β"
   ],
   "metadata": {},
   "execution_count": 11
  },
  {
   "cell_type": "markdown",
   "source": [
    "and `β` (which is equal to 1 day) here is expressed in seconds after being unpacked."
   ],
   "metadata": {}
  },
  {
   "cell_type": "markdown",
   "source": [
    "## Initial values"
   ],
   "metadata": {}
  },
  {
   "cell_type": "markdown",
   "source": [
    "Another useful feature is to set initial (or default) values.\n",
    "Again, you **must** import the functions for them to work properly"
   ],
   "metadata": {}
  },
  {
   "outputs": [
    {
     "output_type": "execute_result",
     "data": {
      "text/plain": "initial_value (generic function with 11 methods)"
     },
     "metadata": {},
     "execution_count": 12
    }
   ],
   "cell_type": "code",
   "source": [
    "import AIBECS: @initial_value, initial_value\n",
    "@initial_value struct ParamsWithInitialValue{T} <: AbstractParameters{T}\n",
    "    α::T | 1.0\n",
    "    β::T | 2.0\n",
    "end"
   ],
   "metadata": {},
   "execution_count": 12
  },
  {
   "cell_type": "markdown",
   "source": [
    "This is handy in many applications."
   ],
   "metadata": {}
  },
  {
   "cell_type": "markdown",
   "source": [
    "You can instantiate `p` with the initial values as, well, its values."
   ],
   "metadata": {}
  },
  {
   "outputs": [
    {
     "output_type": "execute_result",
     "data": {
      "text/plain": "\n│ Row │ Symbol │ Value   │ Initial value │\n│     │ \u001b[90mSymbol\u001b[39m │ \u001b[90mFloat64\u001b[39m │ \u001b[90mFloat64\u001b[39m       │\n├─────┼────────┼─────────┼───────────────┤\n│ 1   │ α      │ 1.0     │ 1.0           │\n│ 2   │ β      │ 2.0     │ 2.0           │"
     },
     "metadata": {},
     "execution_count": 13
    }
   ],
   "cell_type": "code",
   "source": [
    "p = ParamsWithInitialValue()"
   ],
   "metadata": {},
   "execution_count": 13
  },
  {
   "cell_type": "markdown",
   "source": [
    "You could also just set one parameter to a different value"
   ],
   "metadata": {}
  },
  {
   "outputs": [
    {
     "output_type": "execute_result",
     "data": {
      "text/plain": "\n│ Row │ Symbol │ Value   │ Initial value │\n│     │ \u001b[90mSymbol\u001b[39m │ \u001b[90mFloat64\u001b[39m │ \u001b[90mFloat64\u001b[39m       │\n├─────┼────────┼─────────┼───────────────┤\n│ 1   │ α      │ 1.0     │ 1.0           │\n│ 2   │ β      │ 10.0    │ 2.0           │"
     },
     "metadata": {},
     "execution_count": 14
    }
   ],
   "cell_type": "code",
   "source": [
    "p = ParamsWithInitialValue(β = 10.0)"
   ],
   "metadata": {},
   "execution_count": 14
  },
  {
   "cell_type": "markdown",
   "source": [
    "## Combining initial values and units"
   ],
   "metadata": {}
  },
  {
   "cell_type": "markdown",
   "source": [
    "You can combine both features in parameters."
   ],
   "metadata": {}
  },
  {
   "outputs": [
    {
     "output_type": "execute_result",
     "data": {
      "text/plain": "units (generic function with 13 methods)"
     },
     "metadata": {},
     "execution_count": 15
    }
   ],
   "cell_type": "code",
   "source": [
    "@units @initial_value struct UnitfulParamsWithInitialValue{T} <: AbstractParameters{T}\n",
    "    α::T | 1.0 | u\"m/s\"\n",
    "    β::T | 2.0 | u\"d\"\n",
    "end"
   ],
   "metadata": {},
   "execution_count": 15
  },
  {
   "cell_type": "markdown",
   "source": [
    "And instantiate `p` from just one parameter with its unit"
   ],
   "metadata": {}
  },
  {
   "outputs": [
    {
     "name": "stdout",
     "output_type": "stream",
     "text": [
      "┌ Warning: Symbol yr was found in multiple registered unit modules.\n",
      "│ We will use the one from UnitfulAstro.\n",
      "└ @ Unitful /Users/runner/.julia/packages/Unitful/PZjMS/src/user.jl:589\n"
     ]
    },
    {
     "output_type": "execute_result",
     "data": {
      "text/plain": "\n│ Row │ Symbol │ Value   │ Initial value │ Unit     │\n│     │ \u001b[90mSymbol\u001b[39m │ \u001b[90mFloat64\u001b[39m │ \u001b[90mFloat64\u001b[39m       │ \u001b[90mUnitful…\u001b[39m │\n├─────┼────────┼─────────┼───────────────┼──────────┤\n│ 1   │ α      │ 1.0     │ 1.0           │ m s⁻¹    │\n│ 2   │ β      │ 365.25  │ 2.0           │ d        │"
     },
     "metadata": {},
     "execution_count": 16
    }
   ],
   "cell_type": "code",
   "source": [
    "p = UnitfulParamsWithInitialValue(β = 1.0u\"yr\")"
   ],
   "metadata": {},
   "execution_count": 16
  },
  {
   "cell_type": "markdown",
   "source": [
    "## Optimizable parameters"
   ],
   "metadata": {}
  },
  {
   "outputs": [
    {
     "output_type": "execute_result",
     "data": {
      "text/plain": "flattenable (generic function with 12 methods)"
     },
     "metadata": {},
     "execution_count": 17
    }
   ],
   "cell_type": "code",
   "source": [
    "import AIBECS: @flattenable, flattenable\n",
    "@flattenable struct OptimizableParams{T} <: AbstractParameters{T}\n",
    "    α::T | true\n",
    "    β::T | false\n",
    "    γ::T | true\n",
    "end"
   ],
   "metadata": {},
   "execution_count": 17
  },
  {
   "cell_type": "markdown",
   "source": [
    "Then the \"flattenable\" parameters will be the only ones to remain when converting `OptimizableParams` to a vector"
   ],
   "metadata": {}
  },
  {
   "outputs": [
    {
     "output_type": "execute_result",
     "data": {
      "text/plain": "2-element Array{Float64,1}:\n 1.0\n 3.0"
     },
     "metadata": {},
     "execution_count": 18
    }
   ],
   "cell_type": "code",
   "source": [
    "p = OptimizableParams(1.0, 2.0, 3.0)\n",
    "v = vec(p)"
   ],
   "metadata": {},
   "execution_count": 18
  },
  {
   "cell_type": "markdown",
   "source": [
    "The `vec` function uses the `@unpack` function in AIBECS, so that units are converted when vectorizing.\n",
    "Here is an example of that by first combining `units` and `flattenable`."
   ],
   "metadata": {}
  },
  {
   "outputs": [
    {
     "output_type": "execute_result",
     "data": {
      "text/plain": "\n│ Row │ Symbol │ Value   │ Initial value │ Unit     │ Optimizable │\n│     │ \u001b[90mSymbol\u001b[39m │ \u001b[90mFloat64\u001b[39m │ \u001b[90mFloat64\u001b[39m       │ \u001b[90mUnitful…\u001b[39m │ \u001b[90mBool\u001b[39m        │\n├─────┼────────┼─────────┼───────────────┼──────────┼─────────────┤\n│ 1   │ α      │ 1.0     │ 1.0           │ m s⁻¹    │ 1           │\n│ 2   │ β      │ 2.0     │ 2.0           │ d        │ 0           │\n│ 3   │ γ      │ 3.0     │ 3.0           │ km       │ 1           │"
     },
     "metadata": {},
     "execution_count": 19
    }
   ],
   "cell_type": "code",
   "source": [
    "@flattenable @units @initial_value struct OptimizableParamsWithUnits{T} <: AbstractParameters{T}\n",
    "    α::T | 1.0 | u\"m/s\" | true\n",
    "    β::T | 2.0 | u\"d\"   | false\n",
    "    γ::T | 3.0 | u\"km\"  | true\n",
    "end\n",
    "p = OptimizableParamsWithUnits()"
   ],
   "metadata": {},
   "execution_count": 19
  },
  {
   "cell_type": "markdown",
   "source": [
    "And then vectorizing the parameters"
   ],
   "metadata": {}
  },
  {
   "outputs": [
    {
     "output_type": "execute_result",
     "data": {
      "text/plain": "2-element Array{Float64,1}:\n    1.0\n 3000.0"
     },
     "metadata": {},
     "execution_count": 20
    }
   ],
   "cell_type": "code",
   "source": [
    "vec(p)"
   ],
   "metadata": {},
   "execution_count": 20
  },
  {
   "cell_type": "markdown",
   "source": [
    "Note how `γ` (the third parameter, but the second flattenable one), is converted to meters."
   ],
   "metadata": {}
  },
  {
   "cell_type": "markdown",
   "source": [
    "## Other features"
   ],
   "metadata": {}
  },
  {
   "cell_type": "markdown",
   "source": [
    "Coming soon!"
   ],
   "metadata": {}
  },
  {
   "cell_type": "markdown",
   "source": [
    "---\n",
    "\n",
    "*This notebook was generated using [Literate.jl](https://github.com/fredrikekre/Literate.jl).*"
   ],
   "metadata": {}
  }
 ],
 "nbformat_minor": 3,
 "metadata": {
  "language_info": {
   "file_extension": ".jl",
   "mimetype": "application/julia",
   "name": "julia",
   "version": "1.4.0"
  },
  "kernelspec": {
   "name": "julia-1.4",
   "display_name": "Julia 1.4.0",
   "language": "julia"
  }
 },
 "nbformat": 4
}
